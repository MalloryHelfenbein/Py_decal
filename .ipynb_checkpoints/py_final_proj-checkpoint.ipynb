{
 "cells": [
  {
   "cell_type": "markdown",
   "id": "97a132c0",
   "metadata": {},
   "source": [
    "# Group 10 Final Project"
   ]
  },
  {
   "cell_type": "code",
   "execution_count": 1,
   "id": "feabd607",
   "metadata": {},
   "outputs": [
    {
     "name": "stderr",
     "output_type": "stream",
     "text": [
      "/Users/malloryhelfenbein/opt/anaconda3/envs/py38/lib/python3.8/site-packages/scipy/__init__.py:146: UserWarning: A NumPy version >=1.16.5 and <1.23.0 is required for this version of SciPy (detected version 1.23.1\n",
      "  warnings.warn(f\"A NumPy version >={np_minversion} and <{np_maxversion}\"\n"
     ]
    }
   ],
   "source": [
    "import matplotlib as plt\n",
    "import numpy as np\n",
    "import scipy \n",
    "import astropy\n",
    "from astropy import units as u\n",
    "import math"
   ]
  },
  {
   "cell_type": "markdown",
   "id": "bce5d0ea",
   "metadata": {},
   "source": [
    "##### Defining key variables"
   ]
  },
  {
   "cell_type": "code",
   "execution_count": 2,
   "id": "da532cbe",
   "metadata": {},
   "outputs": [],
   "source": [
    "from astropy.constants import G\n",
    "\n",
    "#Radius of each moon\n",
    "r_mimas= 1.85 * 10**8 #m\n",
    "r_enceladus=2.37 * 10**8 #m\n",
    "r_tethys=2.94 * 10**8 #m\n",
    "r_dione=3.77 * 10**8 #m\n",
    "r_rhea=5.27 * 10**8 #m\n",
    "r_titan= 1.22 * 10**9 #m\n",
    "r_iapetus= 3.56 * 10**9 #m\n",
    "\n",
    "#Mass of each moon\n",
    "m_mimas= 4 * 10**19 #kg\n",
    "m_enceladus= 1.1 * 10**20 #kg\n",
    "m_tethys= 6.2 * 10**20 #kg\n",
    "m_dione= 1.1 * 10**21 #kg\n",
    "m_rhea= 2.3 * 10**21 #kg\n",
    "m_titan= 1.35 * 10**23 #kg\n",
    "m_iapetus= 1.8 * 10**21 #kg\n",
    "\n",
    "#Period of each moon\n",
    "T_mimas= 0.9 #days\n",
    "T_enceladus= 1.4 #days\n",
    "T_tethys= 1.9 #days\n",
    "T_dione= 2.7 #days\n",
    "T_rhea= 4.5 #days\n",
    "T_titan= 16 #days\n",
    "T_iapetus= 29 #days"
   ]
  },
  {
   "cell_type": "code",
   "execution_count": null,
   "id": "9fb51d73",
   "metadata": {},
   "outputs": [],
   "source": []
  }
 ],
 "metadata": {
  "kernelspec": {
   "display_name": "Python 3 (ipykernel)",
   "language": "python",
   "name": "python3"
  },
  "language_info": {
   "codemirror_mode": {
    "name": "ipython",
    "version": 3
   },
   "file_extension": ".py",
   "mimetype": "text/x-python",
   "name": "python",
   "nbconvert_exporter": "python",
   "pygments_lexer": "ipython3",
   "version": "3.8.12"
  }
 },
 "nbformat": 4,
 "nbformat_minor": 5
}
